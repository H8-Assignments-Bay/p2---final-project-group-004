{
  "cells": [
    {
      "cell_type": "markdown",
      "metadata": {
        "id": "aZ68GsboxueL"
      },
      "source": [
        "# I. Introduction"
      ]
    },
    {
      "cell_type": "markdown",
      "metadata": {
        "id": "6liN450RxueO"
      },
      "source": [
        "### Final Project\n",
        "\n",
        "- Study Group 4 Hacktiv8, Batch 011 Full Time Data Science\n",
        "- Our team :\n",
        "  - Megatheo J. Rumahorbo\n",
        "  - Aditya Vianseto\n",
        "  - Hafiz Febry\n",
        "  - Nabila Edelliana K"
      ]
    },
    {
      "cell_type": "markdown",
      "metadata": {
        "id": "lwa7igajO8kV"
      },
      "source": [
        "## Objectives\n",
        "This Project aims to create a user-friendly chatbot (GitCoff\" for e-commerce \"GitCoffee\" to help communicating with customers in the more effective way for non-technical question with the concept of machine learning and NLP.\n",
        "\n",
        "## Dataset\n",
        "We build our own dataset in order to have a relevan dataset and in to complete the aims of the objectives.\n",
        "1. Intents : contains 3 informations, dataset for the chatbot\n",
        "    - tag : defines the class of the question/input and the answer/output.\n",
        "    - pattern : the data that represent the input for GitCoff from user/customer and will be trained later to the model.\n",
        "    - responses : defines the responses that will be selected randomly as the output for the input.\n",
        "2. data_kopi.csv : contains 5 informations, dataset for recommeder system."
      ]
    },
    {
      "cell_type": "markdown",
      "metadata": {
        "id": "WYRb7d4cOham"
      },
      "source": [
        "# II. Import Library"
      ]
    },
    {
      "cell_type": "code",
      "execution_count": 149,
      "metadata": {
        "id": "K4xiQCotLFkr"
      },
      "outputs": [],
      "source": [
        "# Import library that will be used in this project\n",
        "\n",
        "# Library for Visualization\n",
        "import matplotlib.pyplot as plt\n",
        "\n",
        "# Library for preprocessing\n",
        "import string\n",
        "import re\n",
        "import numpy as np\n",
        "import pandas as pd\n",
        "from Sastrawi.Stemmer.StemmerFactory import StemmerFactory\n",
        "\n",
        "# Library for modelling\n",
        "from sklearn.tree import DecisionTreeClassifier\n",
        "from sklearn.ensemble import RandomForestClassifier\n",
        "from sklearn.feature_extraction.text import CountVectorizer, TfidfTransformer\n",
        "from sklearn.naive_bayes import MultinomialNB\n",
        "from sklearn.pipeline import make_pipeline\n",
        "from util import JSONParser\n",
        "from sklearn.model_selection import train_test_split\n",
        "\n",
        "# Library for model evaluation\n",
        "from sklearn import metrics"
      ]
    },
    {
      "cell_type": "markdown",
      "metadata": {
        "id": "Fr_tAdrDO1w-"
      },
      "source": [
        "# Data Loading"
      ]
    },
    {
      "cell_type": "code",
      "execution_count": 150,
      "metadata": {
        "id": "-rDPxlipLFky",
        "outputId": "3e074828-75f4-4080-8f75-a85aee09f1c5"
      },
      "outputs": [],
      "source": [
        "# Load data from folders\n",
        "path = \"dataset/intents.json\"\n",
        "\n",
        "# Defining JSONParser\n",
        "jp = JSONParser()\n",
        "\n",
        "# Parsing data intents\n",
        "jp.parse(path)\n",
        "\n",
        "# Building dataframe and save it to variable df\n",
        "df = jp.get_dataframe()"
      ]
    },
    {
      "cell_type": "code",
      "execution_count": 151,
      "metadata": {
        "id": "_GkwmzxrLFk0",
        "outputId": "806785de-4b83-42ac-d97e-11ff1fbc4244"
      },
      "outputs": [
        {
          "data": {
            "text/html": [
              "<div>\n",
              "<style scoped>\n",
              "    .dataframe tbody tr th:only-of-type {\n",
              "        vertical-align: middle;\n",
              "    }\n",
              "\n",
              "    .dataframe tbody tr th {\n",
              "        vertical-align: top;\n",
              "    }\n",
              "\n",
              "    .dataframe thead th {\n",
              "        text-align: right;\n",
              "    }\n",
              "</style>\n",
              "<table border=\"1\" class=\"dataframe\">\n",
              "  <thead>\n",
              "    <tr style=\"text-align: right;\">\n",
              "      <th></th>\n",
              "      <th>text_input</th>\n",
              "      <th>intents</th>\n",
              "    </tr>\n",
              "  </thead>\n",
              "  <tbody>\n",
              "    <tr>\n",
              "      <th>0</th>\n",
              "      <td>Hai</td>\n",
              "      <td>menyapa</td>\n",
              "    </tr>\n",
              "    <tr>\n",
              "      <th>1</th>\n",
              "      <td>Halo</td>\n",
              "      <td>menyapa</td>\n",
              "    </tr>\n",
              "    <tr>\n",
              "      <th>2</th>\n",
              "      <td>Hei</td>\n",
              "      <td>menyapa</td>\n",
              "    </tr>\n",
              "    <tr>\n",
              "      <th>3</th>\n",
              "      <td>Oi</td>\n",
              "      <td>menyapa</td>\n",
              "    </tr>\n",
              "    <tr>\n",
              "      <th>4</th>\n",
              "      <td>Woy</td>\n",
              "      <td>menyapa</td>\n",
              "    </tr>\n",
              "    <tr>\n",
              "      <th>...</th>\n",
              "      <td>...</td>\n",
              "      <td>...</td>\n",
              "    </tr>\n",
              "    <tr>\n",
              "      <th>1028</th>\n",
              "      <td>Kopi yang paling mahal dijual disini ada gak sih?</td>\n",
              "      <td>kopi_mahal</td>\n",
              "    </tr>\n",
              "    <tr>\n",
              "      <th>1029</th>\n",
              "      <td>jenis kopi yang harganya paling mahal ada gak?...</td>\n",
              "      <td>kopi_mahal</td>\n",
              "    </tr>\n",
              "    <tr>\n",
              "      <th>1030</th>\n",
              "      <td>Punya kopi yang harganya paling mahal kan</td>\n",
              "      <td>kopi_mahal</td>\n",
              "    </tr>\n",
              "    <tr>\n",
              "      <th>1031</th>\n",
              "      <td>Punya kopi termahal kan? kasih tau aku bisa?</td>\n",
              "      <td>kopi_mahal</td>\n",
              "    </tr>\n",
              "    <tr>\n",
              "      <th>1032</th>\n",
              "      <td>Aku mau tau nih, kopi yang paling mahal disini...</td>\n",
              "      <td>kopi_mahal</td>\n",
              "    </tr>\n",
              "  </tbody>\n",
              "</table>\n",
              "<p>1033 rows × 2 columns</p>\n",
              "</div>"
            ],
            "text/plain": [
              "                                             text_input     intents\n",
              "0                                                   Hai     menyapa\n",
              "1                                                  Halo     menyapa\n",
              "2                                                   Hei     menyapa\n",
              "3                                                    Oi     menyapa\n",
              "4                                                   Woy     menyapa\n",
              "...                                                 ...         ...\n",
              "1028  Kopi yang paling mahal dijual disini ada gak sih?  kopi_mahal\n",
              "1029  jenis kopi yang harganya paling mahal ada gak?...  kopi_mahal\n",
              "1030          Punya kopi yang harganya paling mahal kan  kopi_mahal\n",
              "1031       Punya kopi termahal kan? kasih tau aku bisa?  kopi_mahal\n",
              "1032  Aku mau tau nih, kopi yang paling mahal disini...  kopi_mahal\n",
              "\n",
              "[1033 rows x 2 columns]"
            ]
          },
          "execution_count": 151,
          "metadata": {},
          "output_type": "execute_result"
        }
      ],
      "source": [
        "df"
      ]
    },
    {
      "cell_type": "markdown",
      "metadata": {
        "id": "aZwOUeW4Rij2"
      },
      "source": [
        "There are 1003 data with 2 columns. Note that will be using `intents` as our target when modelling the data."
      ]
    },
    {
      "cell_type": "code",
      "execution_count": 152,
      "metadata": {},
      "outputs": [
        {
          "data": {
            "text/plain": [
              "33"
            ]
          },
          "execution_count": 152,
          "metadata": {},
          "output_type": "execute_result"
        }
      ],
      "source": [
        "df.intents.nunique()"
      ]
    },
    {
      "cell_type": "markdown",
      "metadata": {},
      "source": [
        "We have 33 tag"
      ]
    },
    {
      "cell_type": "code",
      "execution_count": 153,
      "metadata": {},
      "outputs": [
        {
          "data": {
            "text/plain": [
              "menyapa                 57\n",
              "menutup                 52\n",
              "e-wallet                42\n",
              "komplain                39\n",
              "pahit                   36\n",
              "manis                   35\n",
              "pengiriman              35\n",
              "latte                   34\n",
              "blackivory              33\n",
              "pembayaran              33\n",
              "luwak                   32\n",
              "robusta                 32\n",
              "metode bayar            32\n",
              "produk                  31\n",
              "kritik saran            31\n",
              "transfer                31\n",
              "namatoko                31\n",
              "macchiato               30\n",
              "kopikreasi              30\n",
              "tinggicafein            30\n",
              "americano               30\n",
              "espresso                30\n",
              "moccachino              29\n",
              "beda arabica robusta    28\n",
              "kopi_mahal              27\n",
              "pemesanan               25\n",
              "pembatalan              25\n",
              "arabica                 25\n",
              "nama                    23\n",
              "cappucino               23\n",
              "status_pesanan          21\n",
              "estimasi                21\n",
              "tugas                   20\n",
              "Name: intents, dtype: int64"
            ]
          },
          "execution_count": 153,
          "metadata": {},
          "output_type": "execute_result"
        }
      ],
      "source": [
        "df.intents.value_counts()"
      ]
    },
    {
      "cell_type": "markdown",
      "metadata": {},
      "source": [
        "tag terbanyak adalah \"menutup\" yaitu terdapat 52 text dengan tag \"menutup\"\n",
        "paling sedikit adalah \"tugas\" yaitu terdapat 20 text dengan tag \"tugas\""
      ]
    },
    {
      "cell_type": "code",
      "execution_count": 154,
      "metadata": {},
      "outputs": [
        {
          "data": {
            "image/png": "[encoded data removed]",
            "text/plain": [
              "<Figure size 432x288 with 1 Axes>"
            ]
          },
          "metadata": {
            "needs_background": "light"
          },
          "output_type": "display_data"
        },
        {
          "name": "stdout",
          "output_type": "stream",
          "text": [
            "Skewness :  1.5243594136950154\n"
          ]
        }
      ],
      "source": [
        "df.intents.value_counts().plot(kind='hist')\n",
        "plt.title(\"Tag Data Distribution\")\n",
        "plt.show()\n",
        "print(\"Skewness : \",df.intents.value_counts().skew())"
      ]
    },
    {
      "cell_type": "markdown",
      "metadata": {},
      "source": [
        "Data is right skew"
      ]
    },
    {
      "cell_type": "markdown",
      "metadata": {
        "id": "f_QqgOM4Rg9H"
      },
      "source": [
        "# III. Data Preprocessing"
      ]
    },
    {
      "cell_type": "markdown",
      "metadata": {
        "id": "qGH5WnOsUgHH"
      },
      "source": [
        "### 3.1. Data Cleaning"
      ]
    },
    {
      "cell_type": "code",
      "execution_count": 155,
      "metadata": {
        "id": "ChKFiVEnLFk1",
        "outputId": "a09c49cd-852d-4c44-8333-b12bfe8b06c8"
      },
      "outputs": [
        {
          "data": {
            "text/plain": [
              "'Cara pesan'"
            ]
          },
          "execution_count": 155,
          "metadata": {},
          "output_type": "execute_result"
        }
      ],
      "source": [
        "# Look into sample chat\n",
        "sample_chat = df.text_input[200]\n",
        "sample_chat"
      ]
    },
    {
      "cell_type": "markdown",
      "metadata": {
        "id": "lvuDrP61R0TB"
      },
      "source": [
        "It looks like we need some data cleaning because we want \"Apa bisa batalin pesanan?\" has no difference with \"apa bisa batalin pesanan\" as the model will read the data in case-sensitive."
      ]
    },
    {
      "cell_type": "code",
      "execution_count": 156,
      "metadata": {
        "id": "k8FxxvhOLFk2",
        "outputId": "c409c99a-0a17-4162-cd3b-269ef7dd4219"
      },
      "outputs": [
        {
          "data": {
            "text/plain": [
              "'cara pesan'"
            ]
          },
          "execution_count": 156,
          "metadata": {},
          "output_type": "execute_result"
        }
      ],
      "source": [
        "# Transforming the chat into lowercase\n",
        "chat_lower = sample_chat.lower()\n",
        "chat_lower"
      ]
    },
    {
      "cell_type": "code",
      "execution_count": 157,
      "metadata": {
        "id": "r6mQsnaVLFk3",
        "outputId": "329db8da-593b-40ed-98a1-87c4a0929b33"
      },
      "outputs": [
        {
          "data": {
            "text/plain": [
              "'cara pesan'"
            ]
          },
          "execution_count": 157,
          "metadata": {},
          "output_type": "execute_result"
        }
      ],
      "source": [
        "# Remove punctuations from the chat\n",
        "chat_punct = chat_lower.translate(str.maketrans(\"\",\"\",string.punctuation))\n",
        "chat_punct"
      ]
    },
    {
      "cell_type": "code",
      "execution_count": 158,
      "metadata": {
        "id": "73S8YwyULFk5",
        "outputId": "8c71fcb7-19d9-4f33-f525-87bd79b6bde9"
      },
      "outputs": [
        {
          "data": {
            "text/plain": [
              "'cara pesan'"
            ]
          },
          "execution_count": 158,
          "metadata": {},
          "output_type": "execute_result"
        }
      ],
      "source": [
        "# We need to change non-alphabetical characters with spaces too to make the data cleaner.\n",
        "chat_punct = re.sub(\"[^A-Za-z\\s']\",\" \", chat_punct)\n",
        "chat_punct"
      ]
    },
    {
      "cell_type": "code",
      "execution_count": 159,
      "metadata": {
        "id": "QMY9avOjLFk6",
        "outputId": "414cbe93-6af9-4793-d527-12d4af3977a2"
      },
      "outputs": [
        {
          "data": {
            "text/plain": [
              "'cara pesan'"
            ]
          },
          "execution_count": 159,
          "metadata": {},
          "output_type": "execute_result"
        }
      ],
      "source": [
        "# Remove tab, in case the customer is mistype inputting tab on their chat\n",
        "chat_punct = chat_punct.strip()\n",
        "chat_punct"
      ]
    },
    {
      "cell_type": "code",
      "execution_count": 160,
      "metadata": {
        "id": "uUj_tTG8LFk7",
        "outputId": "66e85a5d-f0b0-4fa6-f473-7c1034b1ec87"
      },
      "outputs": [
        {
          "data": {
            "text/plain": [
              "'cara pesan'"
            ]
          },
          "execution_count": 160,
          "metadata": {},
          "output_type": "execute_result"
        }
      ],
      "source": [
        "# Defining Stemmer\n",
        "stemmer = StemmerFactory().create_stemmer()\n",
        "\n",
        "# Applying stemmer to the chat\n",
        "output   = stemmer.stem(chat_punct)\n",
        "output"
      ]
    },
    {
      "cell_type": "markdown",
      "metadata": {
        "id": "MIGweR8VTr75"
      },
      "source": [
        "We don't remove stopword because in our data, there are much of words that is important to detect tag. For example, the word \"hai\" is treated as stopwords in indonesian stopwords. Since the word \"hai\" is in the tag \"menyapa\", we don't want to remove it."
      ]
    },
    {
      "cell_type": "code",
      "execution_count": 161,
      "metadata": {
        "id": "xcRYY8l5LFk-"
      },
      "outputs": [],
      "source": [
        "# Create function to case folding corpus in the dataframe\n",
        "def document_processing(document):\n",
        "    # Transform Document Into Lowercase\n",
        "    document = document.lower()\n",
        "\n",
        "    # Remove Punctuation From Document\n",
        "    document = document.translate(str.maketrans(\"\",\"\",string.punctuation))\n",
        "\n",
        "    # Remove Digit From Document\n",
        "    document = re.sub(\"[^A-Za-z\\s']\",\" \", document)\n",
        "\n",
        "    # Remove Tab From Document\n",
        "    document = document.strip()\n",
        "\n",
        "    #Stemmer\n",
        "    stemmer = StemmerFactory().create_stemmer()\n",
        "\n",
        "    # stemming process\n",
        "    document = stemmer.stem(document)\n",
        "\n",
        "    return document"
      ]
    },
    {
      "cell_type": "markdown",
      "metadata": {
        "id": "7Fke0g2gUjFo"
      },
      "source": [
        "### 3.2. Data Splitting"
      ]
    },
    {
      "cell_type": "code",
      "execution_count": 162,
      "metadata": {
        "id": "DPcaUZrsLFk_"
      },
      "outputs": [],
      "source": [
        "# Split between data (X) and target (y)\n",
        "X = df.text_input\n",
        "y = df.intents"
      ]
    },
    {
      "cell_type": "code",
      "execution_count": 163,
      "metadata": {
        "id": "tUeDurg_LFk_"
      },
      "outputs": [],
      "source": [
        "# Do text processing in data (X)\n",
        "X_proc = X.apply(document_processing)"
      ]
    },
    {
      "cell_type": "markdown",
      "metadata": {
        "id": "jXhPlYwbU1gC"
      },
      "source": [
        "### 3.3. Word Vectorization"
      ]
    },
    {
      "cell_type": "markdown",
      "metadata": {
        "id": "gQMTDn_xl35N"
      },
      "source": [
        "Vectorization is converting chats into vector form so that they can be used for further processing. The token length in the vector is defined from the most words in a single chat in the data."
      ]
    },
    {
      "cell_type": "code",
      "execution_count": 164,
      "metadata": {
        "id": "4g_vaCY8LFlA",
        "outputId": "dacff443-f8ae-4178-e568-051a89ae8e6b"
      },
      "outputs": [
        {
          "data": {
            "text/html": [
              "<style>#sk-container-id-22 {color: black;background-color: white;}#sk-container-id-22 pre{padding: 0;}#sk-container-id-22 div.sk-toggleable {background-color: white;}#sk-container-id-22 label.sk-toggleable__label {cursor: pointer;display: block;width: 100%;margin-bottom: 0;padding: 0.3em;box-sizing: border-box;text-align: center;}#sk-container-id-22 label.sk-toggleable__label-arrow:before {content: \"▸\";float: left;margin-right: 0.25em;color: #696969;}#sk-container-id-22 label.sk-toggleable__label-arrow:hover:before {color: black;}#sk-container-id-22 div.sk-estimator:hover label.sk-toggleable__label-arrow:before {color: black;}#sk-container-id-22 div.sk-toggleable__content {max-height: 0;max-width: 0;overflow: hidden;text-align: left;background-color: #f0f8ff;}#sk-container-id-22 div.sk-toggleable__content pre {margin: 0.2em;color: black;border-radius: 0.25em;background-color: #f0f8ff;}#sk-container-id-22 input.sk-toggleable__control:checked~div.sk-toggleable__content {max-height: 200px;max-width: 100%;overflow: auto;}#sk-container-id-22 input.sk-toggleable__control:checked~label.sk-toggleable__label-arrow:before {content: \"▾\";}#sk-container-id-22 div.sk-estimator input.sk-toggleable__control:checked~label.sk-toggleable__label {background-color: #d4ebff;}#sk-container-id-22 div.sk-label input.sk-toggleable__control:checked~label.sk-toggleable__label {background-color: #d4ebff;}#sk-container-id-22 input.sk-hidden--visually {border: 0;clip: rect(1px 1px 1px 1px);clip: rect(1px, 1px, 1px, 1px);height: 1px;margin: -1px;overflow: hidden;padding: 0;position: absolute;width: 1px;}#sk-container-id-22 div.sk-estimator {font-family: monospace;background-color: #f0f8ff;border: 1px dotted black;border-radius: 0.25em;box-sizing: border-box;margin-bottom: 0.5em;}#sk-container-id-22 div.sk-estimator:hover {background-color: #d4ebff;}#sk-container-id-22 div.sk-parallel-item::after {content: \"\";width: 100%;border-bottom: 1px solid gray;flex-grow: 1;}#sk-container-id-22 div.sk-label:hover label.sk-toggleable__label {background-color: #d4ebff;}#sk-container-id-22 div.sk-serial::before {content: \"\";position: absolute;border-left: 1px solid gray;box-sizing: border-box;top: 0;bottom: 0;left: 50%;z-index: 0;}#sk-container-id-22 div.sk-serial {display: flex;flex-direction: column;align-items: center;background-color: white;padding-right: 0.2em;padding-left: 0.2em;position: relative;}#sk-container-id-22 div.sk-item {position: relative;z-index: 1;}#sk-container-id-22 div.sk-parallel {display: flex;align-items: stretch;justify-content: center;background-color: white;position: relative;}#sk-container-id-22 div.sk-item::before, #sk-container-id-22 div.sk-parallel-item::before {content: \"\";position: absolute;border-left: 1px solid gray;box-sizing: border-box;top: 0;bottom: 0;left: 50%;z-index: -1;}#sk-container-id-22 div.sk-parallel-item {display: flex;flex-direction: column;z-index: 1;position: relative;background-color: white;}#sk-container-id-22 div.sk-parallel-item:first-child::after {align-self: flex-end;width: 50%;}#sk-container-id-22 div.sk-parallel-item:last-child::after {align-self: flex-start;width: 50%;}#sk-container-id-22 div.sk-parallel-item:only-child::after {width: 0;}#sk-container-id-22 div.sk-dashed-wrapped {border: 1px dashed gray;margin: 0 0.4em 0.5em 0.4em;box-sizing: border-box;padding-bottom: 0.4em;background-color: white;}#sk-container-id-22 div.sk-label label {font-family: monospace;font-weight: bold;display: inline-block;line-height: 1.2em;}#sk-container-id-22 div.sk-label-container {text-align: center;}#sk-container-id-22 div.sk-container {/* jupyter's `normalize.less` sets `[hidden] { display: none; }` but bootstrap.min.css set `[hidden] { display: none !important; }` so we also need the `!important` here to be able to override the default hidden behavior on the sphinx rendered scikit-learn.org. See: https://github.com/scikit-learn/scikit-learn/issues/21755 */display: inline-block !important;position: relative;}#sk-container-id-22 div.sk-text-repr-fallback {display: none;}</style><div id=\"sk-container-id-22\" class=\"sk-top-container\"><div class=\"sk-text-repr-fallback\"><pre>CountVectorizer()</pre><b>In a Jupyter environment, please rerun this cell to show the HTML representation or trust the notebook. <br />On GitHub, the HTML representation is unable to render, please try loading this page with nbviewer.org.</b></div><div class=\"sk-container\" hidden><div class=\"sk-item\"><div class=\"sk-estimator sk-toggleable\"><input class=\"sk-toggleable__control sk-hidden--visually\" id=\"sk-estimator-id-55\" type=\"checkbox\" checked><label for=\"sk-estimator-id-55\" class=\"sk-toggleable__label sk-toggleable__label-arrow\">CountVectorizer</label><div class=\"sk-toggleable__content\"><pre>CountVectorizer()</pre></div></div></div></div></div>"
            ],
            "text/plain": [
              "CountVectorizer()"
            ]
          },
          "execution_count": 164,
          "metadata": {},
          "output_type": "execute_result"
        }
      ],
      "source": [
        "# Define Text Vectorizer and Fit with our Data\n",
        "vect = CountVectorizer()\n",
        "vect.fit(X_proc)"
      ]
    },
    {
      "cell_type": "code",
      "execution_count": 165,
      "metadata": {
        "id": "bESztcJtLFlB",
        "outputId": "66ae2de6-5134-4f52-a503-1dd60de2a4d4"
      },
      "outputs": [
        {
          "name": "stdout",
          "output_type": "stream",
          "text": [
            "Train-Set shape      : (826, 826)\n",
            "Test-Set shape       : (207, 207)\n"
          ]
        }
      ],
      "source": [
        "# Split Data for Train-Set and Test-Set\n",
        "X_train, X_test,  y_train, y_test = train_test_split(X_proc, y,test_size=0.2, random_state=4)\n",
        "print(f\"Train-Set shape      : {len(X_train),len(y_train)}\")\n",
        "print(f\"Test-Set shape       : {len(X_test),len(y_test)}\")"
      ]
    },
    {
      "cell_type": "markdown",
      "metadata": {},
      "source": [
        "We have 802 data for train-set and 201 data for test-set"
      ]
    },
    {
      "cell_type": "markdown",
      "metadata": {
        "id": "y5Higoklnkdl"
      },
      "source": [
        "# IV. Model Training"
      ]
    },
    {
      "cell_type": "markdown",
      "metadata": {
        "id": "uA-Wzl5WnNoJ"
      },
      "source": [
        "Training using pipeline as a container for vectorizer and the model"
      ]
    },
    {
      "cell_type": "code",
      "execution_count": 166,
      "metadata": {
        "id": "WI3gTzDfLFlC",
        "outputId": "0ca2b9d6-7f70-431b-d240-eed3c4e2432b"
      },
      "outputs": [
        {
          "data": {
            "text/html": [
              "<style>#sk-container-id-23 {color: black;background-color: white;}#sk-container-id-23 pre{padding: 0;}#sk-container-id-23 div.sk-toggleable {background-color: white;}#sk-container-id-23 label.sk-toggleable__label {cursor: pointer;display: block;width: 100%;margin-bottom: 0;padding: 0.3em;box-sizing: border-box;text-align: center;}#sk-container-id-23 label.sk-toggleable__label-arrow:before {content: \"▸\";float: left;margin-right: 0.25em;color: #696969;}#sk-container-id-23 label.sk-toggleable__label-arrow:hover:before {color: black;}#sk-container-id-23 div.sk-estimator:hover label.sk-toggleable__label-arrow:before {color: black;}#sk-container-id-23 div.sk-toggleable__content {max-height: 0;max-width: 0;overflow: hidden;text-align: left;background-color: #f0f8ff;}#sk-container-id-23 div.sk-toggleable__content pre {margin: 0.2em;color: black;border-radius: 0.25em;background-color: #f0f8ff;}#sk-container-id-23 input.sk-toggleable__control:checked~div.sk-toggleable__content {max-height: 200px;max-width: 100%;overflow: auto;}#sk-container-id-23 input.sk-toggleable__control:checked~label.sk-toggleable__label-arrow:before {content: \"▾\";}#sk-container-id-23 div.sk-estimator input.sk-toggleable__control:checked~label.sk-toggleable__label {background-color: #d4ebff;}#sk-container-id-23 div.sk-label input.sk-toggleable__control:checked~label.sk-toggleable__label {background-color: #d4ebff;}#sk-container-id-23 input.sk-hidden--visually {border: 0;clip: rect(1px 1px 1px 1px);clip: rect(1px, 1px, 1px, 1px);height: 1px;margin: -1px;overflow: hidden;padding: 0;position: absolute;width: 1px;}#sk-container-id-23 div.sk-estimator {font-family: monospace;background-color: #f0f8ff;border: 1px dotted black;border-radius: 0.25em;box-sizing: border-box;margin-bottom: 0.5em;}#sk-container-id-23 div.sk-estimator:hover {background-color: #d4ebff;}#sk-container-id-23 div.sk-parallel-item::after {content: \"\";width: 100%;border-bottom: 1px solid gray;flex-grow: 1;}#sk-container-id-23 div.sk-label:hover label.sk-toggleable__label {background-color: #d4ebff;}#sk-container-id-23 div.sk-serial::before {content: \"\";position: absolute;border-left: 1px solid gray;box-sizing: border-box;top: 0;bottom: 0;left: 50%;z-index: 0;}#sk-container-id-23 div.sk-serial {display: flex;flex-direction: column;align-items: center;background-color: white;padding-right: 0.2em;padding-left: 0.2em;position: relative;}#sk-container-id-23 div.sk-item {position: relative;z-index: 1;}#sk-container-id-23 div.sk-parallel {display: flex;align-items: stretch;justify-content: center;background-color: white;position: relative;}#sk-container-id-23 div.sk-item::before, #sk-container-id-23 div.sk-parallel-item::before {content: \"\";position: absolute;border-left: 1px solid gray;box-sizing: border-box;top: 0;bottom: 0;left: 50%;z-index: -1;}#sk-container-id-23 div.sk-parallel-item {display: flex;flex-direction: column;z-index: 1;position: relative;background-color: white;}#sk-container-id-23 div.sk-parallel-item:first-child::after {align-self: flex-end;width: 50%;}#sk-container-id-23 div.sk-parallel-item:last-child::after {align-self: flex-start;width: 50%;}#sk-container-id-23 div.sk-parallel-item:only-child::after {width: 0;}#sk-container-id-23 div.sk-dashed-wrapped {border: 1px dashed gray;margin: 0 0.4em 0.5em 0.4em;box-sizing: border-box;padding-bottom: 0.4em;background-color: white;}#sk-container-id-23 div.sk-label label {font-family: monospace;font-weight: bold;display: inline-block;line-height: 1.2em;}#sk-container-id-23 div.sk-label-container {text-align: center;}#sk-container-id-23 div.sk-container {/* jupyter's `normalize.less` sets `[hidden] { display: none; }` but bootstrap.min.css set `[hidden] { display: none !important; }` so we also need the `!important` here to be able to override the default hidden behavior on the sphinx rendered scikit-learn.org. See: https://github.com/scikit-learn/scikit-learn/issues/21755 */display: inline-block !important;position: relative;}#sk-container-id-23 div.sk-text-repr-fallback {display: none;}</style><div id=\"sk-container-id-23\" class=\"sk-top-container\"><div class=\"sk-text-repr-fallback\"><pre>Pipeline(steps=[(&#x27;countvectorizer&#x27;, CountVectorizer()),\n",
              "                (&#x27;multinomialnb&#x27;, MultinomialNB())])</pre><b>In a Jupyter environment, please rerun this cell to show the HTML representation or trust the notebook. <br />On GitHub, the HTML representation is unable to render, please try loading this page with nbviewer.org.</b></div><div class=\"sk-container\" hidden><div class=\"sk-item sk-dashed-wrapped\"><div class=\"sk-label-container\"><div class=\"sk-label sk-toggleable\"><input class=\"sk-toggleable__control sk-hidden--visually\" id=\"sk-estimator-id-56\" type=\"checkbox\" ><label for=\"sk-estimator-id-56\" class=\"sk-toggleable__label sk-toggleable__label-arrow\">Pipeline</label><div class=\"sk-toggleable__content\"><pre>Pipeline(steps=[(&#x27;countvectorizer&#x27;, CountVectorizer()),\n",
              "                (&#x27;multinomialnb&#x27;, MultinomialNB())])</pre></div></div></div><div class=\"sk-serial\"><div class=\"sk-item\"><div class=\"sk-estimator sk-toggleable\"><input class=\"sk-toggleable__control sk-hidden--visually\" id=\"sk-estimator-id-57\" type=\"checkbox\" ><label for=\"sk-estimator-id-57\" class=\"sk-toggleable__label sk-toggleable__label-arrow\">CountVectorizer</label><div class=\"sk-toggleable__content\"><pre>CountVectorizer()</pre></div></div></div><div class=\"sk-item\"><div class=\"sk-estimator sk-toggleable\"><input class=\"sk-toggleable__control sk-hidden--visually\" id=\"sk-estimator-id-58\" type=\"checkbox\" ><label for=\"sk-estimator-id-58\" class=\"sk-toggleable__label sk-toggleable__label-arrow\">MultinomialNB</label><div class=\"sk-toggleable__content\"><pre>MultinomialNB()</pre></div></div></div></div></div></div></div>"
            ],
            "text/plain": [
              "Pipeline(steps=[('countvectorizer', CountVectorizer()),\n",
              "                ('multinomialnb', MultinomialNB())])"
            ]
          },
          "execution_count": 166,
          "metadata": {},
          "output_type": "execute_result"
        }
      ],
      "source": [
        "# MultinomialNB Pipeline\n",
        "nb = make_pipeline(CountVectorizer(),\n",
        "                   MultinomialNB())\n",
        "\n",
        "# Training model\n",
        "nb.fit(X_train, y_train)"
      ]
    },
    {
      "cell_type": "code",
      "execution_count": 167,
      "metadata": {
        "id": "UU4Pjyi5LFlD",
        "outputId": "524739e4-d410-4020-bfbf-2e849f371a6d"
      },
      "outputs": [
        {
          "data": {
            "text/html": [
              "<style>#sk-container-id-24 {color: black;background-color: white;}#sk-container-id-24 pre{padding: 0;}#sk-container-id-24 div.sk-toggleable {background-color: white;}#sk-container-id-24 label.sk-toggleable__label {cursor: pointer;display: block;width: 100%;margin-bottom: 0;padding: 0.3em;box-sizing: border-box;text-align: center;}#sk-container-id-24 label.sk-toggleable__label-arrow:before {content: \"▸\";float: left;margin-right: 0.25em;color: #696969;}#sk-container-id-24 label.sk-toggleable__label-arrow:hover:before {color: black;}#sk-container-id-24 div.sk-estimator:hover label.sk-toggleable__label-arrow:before {color: black;}#sk-container-id-24 div.sk-toggleable__content {max-height: 0;max-width: 0;overflow: hidden;text-align: left;background-color: #f0f8ff;}#sk-container-id-24 div.sk-toggleable__content pre {margin: 0.2em;color: black;border-radius: 0.25em;background-color: #f0f8ff;}#sk-container-id-24 input.sk-toggleable__control:checked~div.sk-toggleable__content {max-height: 200px;max-width: 100%;overflow: auto;}#sk-container-id-24 input.sk-toggleable__control:checked~label.sk-toggleable__label-arrow:before {content: \"▾\";}#sk-container-id-24 div.sk-estimator input.sk-toggleable__control:checked~label.sk-toggleable__label {background-color: #d4ebff;}#sk-container-id-24 div.sk-label input.sk-toggleable__control:checked~label.sk-toggleable__label {background-color: #d4ebff;}#sk-container-id-24 input.sk-hidden--visually {border: 0;clip: rect(1px 1px 1px 1px);clip: rect(1px, 1px, 1px, 1px);height: 1px;margin: -1px;overflow: hidden;padding: 0;position: absolute;width: 1px;}#sk-container-id-24 div.sk-estimator {font-family: monospace;background-color: #f0f8ff;border: 1px dotted black;border-radius: 0.25em;box-sizing: border-box;margin-bottom: 0.5em;}#sk-container-id-24 div.sk-estimator:hover {background-color: #d4ebff;}#sk-container-id-24 div.sk-parallel-item::after {content: \"\";width: 100%;border-bottom: 1px solid gray;flex-grow: 1;}#sk-container-id-24 div.sk-label:hover label.sk-toggleable__label {background-color: #d4ebff;}#sk-container-id-24 div.sk-serial::before {content: \"\";position: absolute;border-left: 1px solid gray;box-sizing: border-box;top: 0;bottom: 0;left: 50%;z-index: 0;}#sk-container-id-24 div.sk-serial {display: flex;flex-direction: column;align-items: center;background-color: white;padding-right: 0.2em;padding-left: 0.2em;position: relative;}#sk-container-id-24 div.sk-item {position: relative;z-index: 1;}#sk-container-id-24 div.sk-parallel {display: flex;align-items: stretch;justify-content: center;background-color: white;position: relative;}#sk-container-id-24 div.sk-item::before, #sk-container-id-24 div.sk-parallel-item::before {content: \"\";position: absolute;border-left: 1px solid gray;box-sizing: border-box;top: 0;bottom: 0;left: 50%;z-index: -1;}#sk-container-id-24 div.sk-parallel-item {display: flex;flex-direction: column;z-index: 1;position: relative;background-color: white;}#sk-container-id-24 div.sk-parallel-item:first-child::after {align-self: flex-end;width: 50%;}#sk-container-id-24 div.sk-parallel-item:last-child::after {align-self: flex-start;width: 50%;}#sk-container-id-24 div.sk-parallel-item:only-child::after {width: 0;}#sk-container-id-24 div.sk-dashed-wrapped {border: 1px dashed gray;margin: 0 0.4em 0.5em 0.4em;box-sizing: border-box;padding-bottom: 0.4em;background-color: white;}#sk-container-id-24 div.sk-label label {font-family: monospace;font-weight: bold;display: inline-block;line-height: 1.2em;}#sk-container-id-24 div.sk-label-container {text-align: center;}#sk-container-id-24 div.sk-container {/* jupyter's `normalize.less` sets `[hidden] { display: none; }` but bootstrap.min.css set `[hidden] { display: none !important; }` so we also need the `!important` here to be able to override the default hidden behavior on the sphinx rendered scikit-learn.org. See: https://github.com/scikit-learn/scikit-learn/issues/21755 */display: inline-block !important;position: relative;}#sk-container-id-24 div.sk-text-repr-fallback {display: none;}</style><div id=\"sk-container-id-24\" class=\"sk-top-container\"><div class=\"sk-text-repr-fallback\"><pre>Pipeline(steps=[(&#x27;countvectorizer&#x27;, CountVectorizer()),\n",
              "                (&#x27;randomforestclassifier&#x27;, RandomForestClassifier())])</pre><b>In a Jupyter environment, please rerun this cell to show the HTML representation or trust the notebook. <br />On GitHub, the HTML representation is unable to render, please try loading this page with nbviewer.org.</b></div><div class=\"sk-container\" hidden><div class=\"sk-item sk-dashed-wrapped\"><div class=\"sk-label-container\"><div class=\"sk-label sk-toggleable\"><input class=\"sk-toggleable__control sk-hidden--visually\" id=\"sk-estimator-id-59\" type=\"checkbox\" ><label for=\"sk-estimator-id-59\" class=\"sk-toggleable__label sk-toggleable__label-arrow\">Pipeline</label><div class=\"sk-toggleable__content\"><pre>Pipeline(steps=[(&#x27;countvectorizer&#x27;, CountVectorizer()),\n",
              "                (&#x27;randomforestclassifier&#x27;, RandomForestClassifier())])</pre></div></div></div><div class=\"sk-serial\"><div class=\"sk-item\"><div class=\"sk-estimator sk-toggleable\"><input class=\"sk-toggleable__control sk-hidden--visually\" id=\"sk-estimator-id-60\" type=\"checkbox\" ><label for=\"sk-estimator-id-60\" class=\"sk-toggleable__label sk-toggleable__label-arrow\">CountVectorizer</label><div class=\"sk-toggleable__content\"><pre>CountVectorizer()</pre></div></div></div><div class=\"sk-item\"><div class=\"sk-estimator sk-toggleable\"><input class=\"sk-toggleable__control sk-hidden--visually\" id=\"sk-estimator-id-61\" type=\"checkbox\" ><label for=\"sk-estimator-id-61\" class=\"sk-toggleable__label sk-toggleable__label-arrow\">RandomForestClassifier</label><div class=\"sk-toggleable__content\"><pre>RandomForestClassifier()</pre></div></div></div></div></div></div></div>"
            ],
            "text/plain": [
              "Pipeline(steps=[('countvectorizer', CountVectorizer()),\n",
              "                ('randomforestclassifier', RandomForestClassifier())])"
            ]
          },
          "execution_count": 167,
          "metadata": {},
          "output_type": "execute_result"
        }
      ],
      "source": [
        "# Random Forest Pipeline\n",
        "rf = make_pipeline(CountVectorizer(),\n",
        "                   RandomForestClassifier())\n",
        "\n",
        "# Training model\n",
        "rf.fit(X_train, y_train)"
      ]
    },
    {
      "cell_type": "code",
      "execution_count": 168,
      "metadata": {
        "id": "J_JHGemKLFlD",
        "outputId": "2de41647-546d-4498-e9f9-e3dd0f206dbe"
      },
      "outputs": [
        {
          "data": {
            "text/html": [
              "<style>#sk-container-id-25 {color: black;background-color: white;}#sk-container-id-25 pre{padding: 0;}#sk-container-id-25 div.sk-toggleable {background-color: white;}#sk-container-id-25 label.sk-toggleable__label {cursor: pointer;display: block;width: 100%;margin-bottom: 0;padding: 0.3em;box-sizing: border-box;text-align: center;}#sk-container-id-25 label.sk-toggleable__label-arrow:before {content: \"▸\";float: left;margin-right: 0.25em;color: #696969;}#sk-container-id-25 label.sk-toggleable__label-arrow:hover:before {color: black;}#sk-container-id-25 div.sk-estimator:hover label.sk-toggleable__label-arrow:before {color: black;}#sk-container-id-25 div.sk-toggleable__content {max-height: 0;max-width: 0;overflow: hidden;text-align: left;background-color: #f0f8ff;}#sk-container-id-25 div.sk-toggleable__content pre {margin: 0.2em;color: black;border-radius: 0.25em;background-color: #f0f8ff;}#sk-container-id-25 input.sk-toggleable__control:checked~div.sk-toggleable__content {max-height: 200px;max-width: 100%;overflow: auto;}#sk-container-id-25 input.sk-toggleable__control:checked~label.sk-toggleable__label-arrow:before {content: \"▾\";}#sk-container-id-25 div.sk-estimator input.sk-toggleable__control:checked~label.sk-toggleable__label {background-color: #d4ebff;}#sk-container-id-25 div.sk-label input.sk-toggleable__control:checked~label.sk-toggleable__label {background-color: #d4ebff;}#sk-container-id-25 input.sk-hidden--visually {border: 0;clip: rect(1px 1px 1px 1px);clip: rect(1px, 1px, 1px, 1px);height: 1px;margin: -1px;overflow: hidden;padding: 0;position: absolute;width: 1px;}#sk-container-id-25 div.sk-estimator {font-family: monospace;background-color: #f0f8ff;border: 1px dotted black;border-radius: 0.25em;box-sizing: border-box;margin-bottom: 0.5em;}#sk-container-id-25 div.sk-estimator:hover {background-color: #d4ebff;}#sk-container-id-25 div.sk-parallel-item::after {content: \"\";width: 100%;border-bottom: 1px solid gray;flex-grow: 1;}#sk-container-id-25 div.sk-label:hover label.sk-toggleable__label {background-color: #d4ebff;}#sk-container-id-25 div.sk-serial::before {content: \"\";position: absolute;border-left: 1px solid gray;box-sizing: border-box;top: 0;bottom: 0;left: 50%;z-index: 0;}#sk-container-id-25 div.sk-serial {display: flex;flex-direction: column;align-items: center;background-color: white;padding-right: 0.2em;padding-left: 0.2em;position: relative;}#sk-container-id-25 div.sk-item {position: relative;z-index: 1;}#sk-container-id-25 div.sk-parallel {display: flex;align-items: stretch;justify-content: center;background-color: white;position: relative;}#sk-container-id-25 div.sk-item::before, #sk-container-id-25 div.sk-parallel-item::before {content: \"\";position: absolute;border-left: 1px solid gray;box-sizing: border-box;top: 0;bottom: 0;left: 50%;z-index: -1;}#sk-container-id-25 div.sk-parallel-item {display: flex;flex-direction: column;z-index: 1;position: relative;background-color: white;}#sk-container-id-25 div.sk-parallel-item:first-child::after {align-self: flex-end;width: 50%;}#sk-container-id-25 div.sk-parallel-item:last-child::after {align-self: flex-start;width: 50%;}#sk-container-id-25 div.sk-parallel-item:only-child::after {width: 0;}#sk-container-id-25 div.sk-dashed-wrapped {border: 1px dashed gray;margin: 0 0.4em 0.5em 0.4em;box-sizing: border-box;padding-bottom: 0.4em;background-color: white;}#sk-container-id-25 div.sk-label label {font-family: monospace;font-weight: bold;display: inline-block;line-height: 1.2em;}#sk-container-id-25 div.sk-label-container {text-align: center;}#sk-container-id-25 div.sk-container {/* jupyter's `normalize.less` sets `[hidden] { display: none; }` but bootstrap.min.css set `[hidden] { display: none !important; }` so we also need the `!important` here to be able to override the default hidden behavior on the sphinx rendered scikit-learn.org. See: https://github.com/scikit-learn/scikit-learn/issues/21755 */display: inline-block !important;position: relative;}#sk-container-id-25 div.sk-text-repr-fallback {display: none;}</style><div id=\"sk-container-id-25\" class=\"sk-top-container\"><div class=\"sk-text-repr-fallback\"><pre>Pipeline(steps=[(&#x27;countvectorizer&#x27;, CountVectorizer()),\n",
              "                (&#x27;decisiontreeclassifier&#x27;, DecisionTreeClassifier())])</pre><b>In a Jupyter environment, please rerun this cell to show the HTML representation or trust the notebook. <br />On GitHub, the HTML representation is unable to render, please try loading this page with nbviewer.org.</b></div><div class=\"sk-container\" hidden><div class=\"sk-item sk-dashed-wrapped\"><div class=\"sk-label-container\"><div class=\"sk-label sk-toggleable\"><input class=\"sk-toggleable__control sk-hidden--visually\" id=\"sk-estimator-id-62\" type=\"checkbox\" ><label for=\"sk-estimator-id-62\" class=\"sk-toggleable__label sk-toggleable__label-arrow\">Pipeline</label><div class=\"sk-toggleable__content\"><pre>Pipeline(steps=[(&#x27;countvectorizer&#x27;, CountVectorizer()),\n",
              "                (&#x27;decisiontreeclassifier&#x27;, DecisionTreeClassifier())])</pre></div></div></div><div class=\"sk-serial\"><div class=\"sk-item\"><div class=\"sk-estimator sk-toggleable\"><input class=\"sk-toggleable__control sk-hidden--visually\" id=\"sk-estimator-id-63\" type=\"checkbox\" ><label for=\"sk-estimator-id-63\" class=\"sk-toggleable__label sk-toggleable__label-arrow\">CountVectorizer</label><div class=\"sk-toggleable__content\"><pre>CountVectorizer()</pre></div></div></div><div class=\"sk-item\"><div class=\"sk-estimator sk-toggleable\"><input class=\"sk-toggleable__control sk-hidden--visually\" id=\"sk-estimator-id-64\" type=\"checkbox\" ><label for=\"sk-estimator-id-64\" class=\"sk-toggleable__label sk-toggleable__label-arrow\">DecisionTreeClassifier</label><div class=\"sk-toggleable__content\"><pre>DecisionTreeClassifier()</pre></div></div></div></div></div></div></div>"
            ],
            "text/plain": [
              "Pipeline(steps=[('countvectorizer', CountVectorizer()),\n",
              "                ('decisiontreeclassifier', DecisionTreeClassifier())])"
            ]
          },
          "execution_count": 168,
          "metadata": {},
          "output_type": "execute_result"
        }
      ],
      "source": [
        "# Decision Tree Pipeline\n",
        "dt = make_pipeline(CountVectorizer(),\n",
        "                   DecisionTreeClassifier())\n",
        "\n",
        "# Training model\n",
        "dt.fit(X_train, y_train)"
      ]
    },
    {
      "cell_type": "markdown",
      "metadata": {
        "id": "WInDE4lhnb79"
      },
      "source": [
        "# V. Model Evaluation"
      ]
    },
    {
      "cell_type": "markdown",
      "metadata": {
        "id": "0eeN2ErVn5VM"
      },
      "source": [
        "## 5.1. Model Evaluation for MultinomialNB"
      ]
    },
    {
      "cell_type": "code",
      "execution_count": 169,
      "metadata": {
        "id": "06X3AA23LFlE",
        "outputId": "042fe49f-9b67-4323-d96e-b97fe191772d"
      },
      "outputs": [
        {
          "name": "stdout",
          "output_type": "stream",
          "text": [
            "Train-Set Multinomial Naive Bayes model accuracy(in %): 97.21549636803874\n",
            "Test-Set Multinomial Naive Bayes model accuracy(in %) : 80.19323671497585\n"
          ]
        }
      ],
      "source": [
        "y_train_pred_nb = nb.predict(X_train)\n",
        "y_test_pred_nb = nb.predict(X_test)\n",
        "print(\"Train-Set Multinomial Naive Bayes model accuracy(in %):\", metrics.accuracy_score(y_train_pred_nb, y_train)*100)\n",
        "print(\"Test-Set Multinomial Naive Bayes model accuracy(in %) :\", metrics.accuracy_score(y_test_pred_nb, y_test)*100)"
      ]
    },
    {
      "cell_type": "markdown",
      "metadata": {
        "id": "LK7cwy5uoA_x"
      },
      "source": [
        "## 5.2. Model Evaluation for Decision Tree"
      ]
    },
    {
      "cell_type": "code",
      "execution_count": 170,
      "metadata": {
        "id": "EC9_mTYVLFlF",
        "outputId": "d9e7229e-7b23-4539-990a-a59a4e64aa85"
      },
      "outputs": [
        {
          "name": "stdout",
          "output_type": "stream",
          "text": [
            "Train-Set Decision Tree model accuracy(in %): 100.0\n",
            "Test-Set Decision Tree model accuracy(in %) : 85.02415458937197\n"
          ]
        }
      ],
      "source": [
        "y_train_pred_dt = dt.predict(X_train)\n",
        "y_test_pred_dt = dt.predict(X_test)\n",
        "print(\"Train-Set Decision Tree model accuracy(in %):\", metrics.accuracy_score(y_train_pred_dt, y_train)*100)\n",
        "print(\"Test-Set Decision Tree model accuracy(in %) :\", metrics.accuracy_score(y_test_pred_dt, y_test)*100)"
      ]
    },
    {
      "cell_type": "markdown",
      "metadata": {
        "id": "CXfdW_9roGHs"
      },
      "source": [
        "## 5.3. Model Evaluation for Random Forest"
      ]
    },
    {
      "cell_type": "code",
      "execution_count": 171,
      "metadata": {
        "id": "FwqcaJVeLFlF",
        "outputId": "a64a8826-35e1-4a8b-eef0-ca52c80b00cf"
      },
      "outputs": [
        {
          "name": "stdout",
          "output_type": "stream",
          "text": [
            "Train-Set Random Forest model accuracy(in %): 100.0\n",
            "Test-Set Random Forest model accuracy(in %) : 85.5072463768116\n"
          ]
        }
      ],
      "source": [
        "y_train_pred_rf = rf.predict(X_train)\n",
        "y_test_pred_rf = rf.predict(X_test)\n",
        "print(\"Train-Set Random Forest model accuracy(in %):\", metrics.accuracy_score(y_train_pred_rf, y_train)*100)\n",
        "print(\"Test-Set Random Forest model accuracy(in %) :\", metrics.accuracy_score(y_test_pred_rf, y_test)*100)"
      ]
    },
    {
      "cell_type": "markdown",
      "metadata": {
        "id": "5j4PbenMoTBs"
      },
      "source": [
        "It turns out that the best model goes to MultinomialNB where the accuracy for training and test set are quiate good and the model is goodfit since the difference for the accuracy in training and test is not too big."
      ]
    },
    {
      "cell_type": "markdown",
      "metadata": {
        "id": "RUFAEM_LoKUB"
      },
      "source": [
        "# VI. Building Chatbot"
      ]
    },
    {
      "cell_type": "markdown",
      "metadata": {
        "id": "RmKkJZ2jorpW"
      },
      "source": [
        "We use the while-loop concept to build the chatbot. We set the threshold at <0.2 is for the unknown input. For example, the chat that is out of topic will be treated as unknown input."
      ]
    },
    {
      "cell_type": "code",
      "execution_count": 172,
      "metadata": {
        "id": "nB6RbjbPLFlG",
        "outputId": "cb76a14b-ba49-4fab-e612-042cf7050d3f"
      },
      "outputs": [
        {
          "name": "stdout",
          "output_type": "stream",
          "text": [
            "Anda Terhubung dengan chatbot Kami\n",
            "Saya : hai\n",
            "Bot  : Mari kak silahkan\n",
            "\n",
            "Saya : nama kamu siapa si?\n",
            "Bot  : Panggilanku Gitcoff... Salam kenal kak\n",
            "\n",
            "Saya : oke gitcoff, ini toko apa sih?\n",
            "Bot  : Git Coffee adalah sebuah toko yang menjual berbagai macam kopi produksi sendiri secara online. Kami memiliki banyak jenis coffee siap saji yaitu arabica, robusta, luwak, latte, macchiato, dan kopi berbagai rasa lainnya kak, jika kakak tertarik dengan produk kami, kakak bisa tanyakan disini untuk beberapa informasi mengenai produk atau kunjungi website kami di www.git-coffee.com ya kak\n",
            "\n",
            "Saya : Jualan apa aja kamu?\n",
            "Bot  : Disini kita jual produk kopi dalam bentuk bubuk kak, ada beberapa jenisnya seperti kopi arabica, robusta, luwak, latte, macchiato, dan ada juga kopi dengan berbagai rasa lainnya. Oiya, kalau kakak ingin tau lebih lanjut mengenai produk yang kita jual, bisa klik tautan ini ya kak www.git-coffee.com/produk\n",
            "\n",
            "Saya : Nanti cara bayarnya gemana?\n",
            "Bot  : Hai kak jika sudah selesai melakukan pesanan dan ingin melakukan pemembayaran, instruksinya bisa kakak cek di www.git-coffee.com/metode-pembayaran, kakak juga bisa menghubungi CS kami di WA, Email, dan No-Telp apabila mengalami kesulitan dalam melakukan pembayaran ya, terima kasih\n",
            "\n",
            "Saya : Metode pembayaran yang kalian pake apa aja?\n",
            "Bot  : Untuk saat ini metode pembayaran yang diterima hanya melalui Bank Transfer dan E-Wallet saja ya kak, untuk lebih jelasnya dapat kakak lihat pada www.git-coffee.com/metode-pembayaran\n",
            "\n",
            "Saya : ooh gitu, paketnya dikirim pakai apa si?\n",
            "Bot  : Saat ini kami hanya menggunakan jasa pengiriman POS Indonesia, SiCepat, JNE, J&T, dan TIKI. Info lengkap mengenai pengiriman barang bisa kakak lihat lihat pada www.git-coffee.com/pengiriman\n",
            "\n",
            "Saya : Berapa lama sampainya?\n",
            "Bot  : Kemungkinan paket sampai rumah kakak untuk waktu tercepatnya sekitar 2 sampai 3 hari ya, dan untuk waktu terlamanya adalah 7 hari\n",
            "\n",
            "Saya : okedeh, terima kasih kalau gitu\n",
            "Bot  : Oke baik, semoga harimu menyenangkan kak!\n",
            "\n"
          ]
        }
      ],
      "source": [
        "print(\"Anda Terhubung dengan chatbot Kami\")\n",
        "while True:\n",
        "    # input user\n",
        "    chat = input(\"Anda : \")\n",
        "    # Preprocessing\n",
        "    chat_processed = document_processing(chat)\n",
        "    # Intent prediction (tag)\n",
        "    res = nb.predict_proba([chat_processed])\n",
        "    # get the probability value and its location\n",
        "    max_prob = max(res[0])\n",
        "    max_idx = np.argmax(res[0])\n",
        "    \n",
        "    # Define condition for unknown input\n",
        "    print(\"Saya :\",chat)\n",
        "    if max_prob < 0.20:\n",
        "        print(\"Bot  : Maaf Kak, aku ga ngerti\")\n",
        "    # Define condition to give response towards specific tag\n",
        "    else:\n",
        "        print(f\"Bot  : {jp.get_response(nb.classes_[max_idx])}\\n\")\n",
        "    # Define response to end the chat for tag \"menutup\"\n",
        "    if nb.classes_[max_idx] == 'menutup':\n",
        "        break\n",
        "    "
      ]
    },
    {
      "cell_type": "markdown",
      "metadata": {
        "id": "tXp0lUocp83o"
      },
      "source": [
        "It seems that our chatbot is succesfully worked. But there's several things that we want to improve :\n",
        "1. Upgrade the chatbot to be flexible when user respond the answer given by the chat bot, and at the same time giving the chatbot another question/input.\n",
        "2. Upgrade the chatbot to have memories over previous chat to make the chatbot to be more user-friendly."
      ]
    }
  ],
  "metadata": {
    "colab": {
      "collapsed_sections": [],
      "name": "gitcoff.ipynb",
      "provenance": [],
      "toc_visible": true
    },
    "kernelspec": {
      "display_name": "Python 3.9.7 ('base')",
      "language": "python",
      "name": "python3"
    },
    "language_info": {
      "codemirror_mode": {
        "name": "ipython",
        "version": 3
      },
      "file_extension": ".py",
      "mimetype": "text/x-python",
      "name": "python",
      "nbconvert_exporter": "python",
      "pygments_lexer": "ipython3",
      "version": "3.9.7"
    },
    "orig_nbformat": 4,
    "vscode": {
      "interpreter": {
        "hash": "414c97acda19547be42260f0fc45d00549c58e368f0922f6fe3a9378a429b4ad"
      }
    }
  },
  "nbformat": 4,
  "nbformat_minor": 0
}
